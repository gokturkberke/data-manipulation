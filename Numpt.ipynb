{
 "cells": [
  {
   "cell_type": "code",
   "execution_count": 2,
   "id": "1dc16aaf-01a0-44e3-8829-30087e1447d0",
   "metadata": {
    "tags": []
   },
   "outputs": [
    {
     "name": "stdout",
     "output_type": "stream",
     "text": [
      "a\n"
     ]
    }
   ],
   "source": [
    "print(\"a\")"
   ]
  },
  {
   "cell_type": "markdown",
   "id": "ca776eab-e00d-4568-9da5-92ab83e0104b",
   "metadata": {
    "tags": []
   },
   "source": [
    "Merhaba\n",
    "Herhangi baska seyler de yazilabilir(Markdown kismi)"
   ]
  },
  {
   "cell_type": "code",
   "execution_count": 9,
   "id": "6e2603e5-243e-4e31-aae8-eb9d31d8f5af",
   "metadata": {
    "tags": []
   },
   "outputs": [
    {
     "name": "stdout",
     "output_type": "stream",
     "text": [
      "Object `Numpy` not found.\n"
     ]
    }
   ],
   "source": [
    "Neden Numpy?"
   ]
  },
  {
   "cell_type": "code",
   "execution_count": 11,
   "id": "d814eba3-23a7-4a7b-b6d2-cb091f7a4930",
   "metadata": {
    "tags": []
   },
   "outputs": [],
   "source": [
    "#a=[1,2,3,4]\n",
    "#b=[2,3,4,5]"
   ]
  },
  {
   "cell_type": "code",
   "execution_count": 9,
   "id": "50b023c6-e356-4e03-8870-8983d97f50b8",
   "metadata": {
    "tags": []
   },
   "outputs": [],
   "source": [
    "import numpy as np"
   ]
  },
  {
   "cell_type": "code",
   "execution_count": 5,
   "id": "32866b03-90c6-45d9-9829-3eeb6e7152c5",
   "metadata": {
    "scrolled": true,
    "tags": []
   },
   "outputs": [],
   "source": [
    "#a=np.array([1,2,3,4])\n",
    "#b=np.array([2,3,4,5])"
   ]
  },
  {
   "cell_type": "code",
   "execution_count": 49,
   "id": "34918bb8-e97d-47a4-82e5-7fd775ce3cbb",
   "metadata": {
    "tags": []
   },
   "outputs": [],
   "source": [
    "#a*b\n"
   ]
  },
  {
   "cell_type": "code",
   "execution_count": 19,
   "id": "7c6261a5-fae2-40d7-9268-aec43aee2e6d",
   "metadata": {
    "tags": []
   },
   "outputs": [
    {
     "data": {
      "text/plain": [
       "numpy.ndarray"
      ]
     },
     "execution_count": 19,
     "metadata": {},
     "output_type": "execute_result"
    }
   ],
   "source": [
    "type(a)\n"
   ]
  },
  {
   "cell_type": "code",
   "execution_count": 11,
   "id": "46d72795-6765-4a04-bf78-ab8a01db96dd",
   "metadata": {
    "tags": []
   },
   "outputs": [
    {
     "data": {
      "text/plain": [
       "array([ 3.14,  4.  ,  2.  , 13.  ])"
      ]
     },
     "execution_count": 11,
     "metadata": {},
     "output_type": "execute_result"
    }
   ],
   "source": [
    "np.array([3.14,4,2,13]) #icinde bi tane ondalikli olursa hepsini ondalikliya cevirecek sekilde yazdirir"
   ]
  },
  {
   "cell_type": "code",
   "execution_count": 25,
   "id": "691d707a-e668-4139-9561-3d6f56efeb74",
   "metadata": {
    "tags": []
   },
   "outputs": [
    {
     "data": {
      "text/plain": [
       "array([[1, 1, 1, 1, 1],\n",
       "       [1, 1, 1, 1, 1],\n",
       "       [1, 1, 1, 1, 1]])"
      ]
     },
     "execution_count": 25,
     "metadata": {},
     "output_type": "execute_result"
    }
   ],
   "source": [
    "np.ones((3,5),dtype = int)"
   ]
  },
  {
   "cell_type": "code",
   "execution_count": 13,
   "id": "50e5335d-075e-4aab-a3e9-55320f497f33",
   "metadata": {},
   "outputs": [
    {
     "data": {
      "text/plain": [
       "array([ 3,  4,  2, 13])"
      ]
     },
     "execution_count": 13,
     "metadata": {},
     "output_type": "execute_result"
    }
   ],
   "source": [
    "np.array([3.14,4,2,13], dtype = \"int\") #hepsini int yapariz"
   ]
  },
  {
   "cell_type": "code",
   "execution_count": 27,
   "id": "e4afcf29-e282-4922-9257-b2ceb7fc8012",
   "metadata": {
    "tags": []
   },
   "outputs": [
    {
     "data": {
      "text/plain": [
       "array([[3, 3, 3, 3, 3],\n",
       "       [3, 3, 3, 3, 3],\n",
       "       [3, 3, 3, 3, 3]])"
      ]
     },
     "execution_count": 27,
     "metadata": {},
     "output_type": "execute_result"
    }
   ],
   "source": [
    "np.full((3,5),3)"
   ]
  },
  {
   "cell_type": "code",
   "execution_count": 33,
   "id": "208ad531-42bf-447c-9e9d-b37cc8856b63",
   "metadata": {
    "tags": []
   },
   "outputs": [
    {
     "data": {
      "text/plain": [
       "array([ 0,  3,  6,  9, 12, 15, 18, 21, 24, 27, 30])"
      ]
     },
     "execution_count": 33,
     "metadata": {},
     "output_type": "execute_result"
    }
   ],
   "source": [
    "np.arange(0,31, 3)"
   ]
  },
  {
   "cell_type": "code",
   "execution_count": 35,
   "id": "a84d88bd-519b-4386-80c1-45fe9c4785c5",
   "metadata": {
    "tags": []
   },
   "outputs": [
    {
     "data": {
      "text/plain": [
       "array([0.        , 0.11111111, 0.22222222, 0.33333333, 0.44444444,\n",
       "       0.55555556, 0.66666667, 0.77777778, 0.88888889, 1.        ])"
      ]
     },
     "execution_count": 35,
     "metadata": {},
     "output_type": "execute_result"
    }
   ],
   "source": [
    "np.linspace(0,1,10) #10 esit aralikli sayi olusturma 0 ile 1 arasinda"
   ]
  },
  {
   "cell_type": "code",
   "execution_count": 37,
   "id": "6467e2ee-80e2-4ca8-a38b-0670dd061a90",
   "metadata": {
    "tags": []
   },
   "outputs": [
    {
     "data": {
      "text/plain": [
       "array([[15.49732654,  8.00568894, 10.05942203,  6.78918447],\n",
       "       [12.54641372,  7.49059405,  5.17370827,  7.06689541],\n",
       "       [ 8.5231148 ,  9.6393603 ,  8.41701686,  1.3880211 ]])"
      ]
     },
     "execution_count": 37,
     "metadata": {},
     "output_type": "execute_result"
    }
   ],
   "source": [
    "np.random.normal(10,4,(3,4)) #ortalama 10 standart sapma 4"
   ]
  },
  {
   "cell_type": "code",
   "execution_count": 39,
   "id": "82fc1c43-5f5c-4653-8828-82bf0fbe9339",
   "metadata": {
    "tags": []
   },
   "outputs": [
    {
     "data": {
      "text/plain": [
       "array([[7, 9, 3],\n",
       "       [2, 6, 0],\n",
       "       [1, 2, 7]])"
      ]
     },
     "execution_count": 39,
     "metadata": {},
     "output_type": "execute_result"
    }
   ],
   "source": [
    "np.random.randint(0,10,(3,3))"
   ]
  },
  {
   "cell_type": "code",
   "execution_count": 41,
   "id": "7b21b585-80fd-47bc-ae83-d43e427f96a8",
   "metadata": {
    "tags": []
   },
   "outputs": [
    {
     "data": {
      "text/plain": [
       "array([1, 8, 5, 5, 5, 7, 6, 8, 5, 7])"
      ]
     },
     "execution_count": 41,
     "metadata": {},
     "output_type": "execute_result"
    }
   ],
   "source": [
    "np.random.randint(10,size=10)"
   ]
  },
  {
   "cell_type": "code",
   "execution_count": 43,
   "id": "2b856ad0-3ea6-4e20-8b06-e5d78cc5004f",
   "metadata": {
    "tags": []
   },
   "outputs": [
    {
     "data": {
      "text/plain": [
       "1"
      ]
     },
     "execution_count": 43,
     "metadata": {},
     "output_type": "execute_result"
    }
   ],
   "source": [
    "#ndim boyut sayisini verir bize\n",
    "a=np.random.randint(10,size = 10)\n",
    "a.ndim"
   ]
  },
  {
   "cell_type": "code",
   "execution_count": 45,
   "id": "eacd42e9-8f00-40eb-a9c5-cfd9a476ea30",
   "metadata": {
    "tags": []
   },
   "outputs": [
    {
     "data": {
      "text/plain": [
       "(10,)"
      ]
     },
     "execution_count": 45,
     "metadata": {},
     "output_type": "execute_result"
    }
   ],
   "source": [
    "a.shape #boyut bilgisi"
   ]
  },
  {
   "cell_type": "code",
   "execution_count": 47,
   "id": "3b9d07de-f503-4a7c-810b-bcbd333791fc",
   "metadata": {
    "tags": []
   },
   "outputs": [
    {
     "data": {
      "text/plain": [
       "dtype('int64')"
      ]
     },
     "execution_count": 47,
     "metadata": {},
     "output_type": "execute_result"
    }
   ],
   "source": [
    "a.size #eleman sayisi 10\n",
    "a.dtype #tipini verir"
   ]
  },
  {
   "cell_type": "code",
   "execution_count": 65,
   "id": "215032c0-c5e2-4181-8046-300a65763b20",
   "metadata": {
    "tags": []
   },
   "outputs": [],
   "source": [
    "b=np.random.randint(10,size=(3,5))"
   ]
  },
  {
   "cell_type": "code",
   "execution_count": 59,
   "id": "01c8f7a8-59c5-4b42-9b0d-b2bbdf17378e",
   "metadata": {
    "tags": []
   },
   "outputs": [
    {
     "data": {
      "text/plain": [
       "2"
      ]
     },
     "execution_count": 59,
     "metadata": {},
     "output_type": "execute_result"
    }
   ],
   "source": [
    "b.ndim"
   ]
  },
  {
   "cell_type": "code",
   "execution_count": 57,
   "id": "fa40ec15-a714-4ce7-94dc-e78b2ef24edc",
   "metadata": {
    "tags": []
   },
   "outputs": [
    {
     "data": {
      "text/plain": [
       "(3, 5)"
      ]
     },
     "execution_count": 57,
     "metadata": {},
     "output_type": "execute_result"
    }
   ],
   "source": [
    "b.shape"
   ]
  },
  {
   "cell_type": "code",
   "execution_count": 61,
   "id": "dae93031-24ff-402b-bcef-bf4d573f39d6",
   "metadata": {
    "tags": []
   },
   "outputs": [
    {
     "data": {
      "text/plain": [
       "15"
      ]
     },
     "execution_count": 61,
     "metadata": {},
     "output_type": "execute_result"
    }
   ],
   "source": [
    "b.size"
   ]
  },
  {
   "cell_type": "code",
   "execution_count": 55,
   "id": "4fefa98d-f408-434c-889d-f4382e95b855",
   "metadata": {
    "tags": []
   },
   "outputs": [
    {
     "data": {
      "text/plain": [
       "dtype('int64')"
      ]
     },
     "execution_count": 55,
     "metadata": {},
     "output_type": "execute_result"
    }
   ],
   "source": [
    "b.dtype"
   ]
  },
  {
   "cell_type": "code",
   "execution_count": 67,
   "id": "646b9e59-b953-4422-957a-0ef1026429a5",
   "metadata": {
    "tags": []
   },
   "outputs": [
    {
     "data": {
      "text/plain": [
       "array([[5, 5, 6, 4, 5],\n",
       "       [8, 6, 0, 1, 3],\n",
       "       [1, 6, 9, 9, 0]])"
      ]
     },
     "execution_count": 67,
     "metadata": {},
     "output_type": "execute_result"
    }
   ],
   "source": [
    "b"
   ]
  },
  {
   "cell_type": "code",
   "execution_count": 77,
   "id": "7b2eecaa-e89a-440a-ab2d-b5de26b7f201",
   "metadata": {
    "tags": []
   },
   "outputs": [
    {
     "data": {
      "text/plain": [
       "array([[1, 2, 3],\n",
       "       [4, 5, 6],\n",
       "       [7, 8, 9]])"
      ]
     },
     "execution_count": 77,
     "metadata": {},
     "output_type": "execute_result"
    }
   ],
   "source": [
    "np.arange(1,10).reshape((3,3)) #reshape3 e 3luk bi matrix yapti mesela"
   ]
  },
  {
   "cell_type": "code",
   "execution_count": 3,
   "id": "9cdec006-6899-4347-aa38-0b15e1ee5b4b",
   "metadata": {},
   "outputs": [],
   "source": [
    "import numpy as np\n",
    "x = np.array([1,2,3])\n",
    "y= np.array([4,5,6])\n"
   ]
  },
  {
   "cell_type": "code",
   "execution_count": 5,
   "id": "4bcaad10-d4a2-4e21-89f0-a5a2b743195a",
   "metadata": {
    "tags": []
   },
   "outputs": [
    {
     "data": {
      "text/plain": [
       "array([1, 2, 3, 4, 5, 6])"
      ]
     },
     "execution_count": 5,
     "metadata": {},
     "output_type": "execute_result"
    }
   ],
   "source": [
    "np.concatenate([x,y]) #birlestirme islemi"
   ]
  },
  {
   "cell_type": "code",
   "execution_count": 18,
   "id": "c9cb5d22-91e7-4f21-bc8b-80452e9fdc78",
   "metadata": {
    "tags": []
   },
   "outputs": [
    {
     "data": {
      "text/plain": [
       "array([[1, 2, 3],\n",
       "       [4, 5, 6]])"
      ]
     },
     "execution_count": 18,
     "metadata": {},
     "output_type": "execute_result"
    }
   ],
   "source": [
    "#iki boyutlu \n",
    "import numpy as np\n",
    "a=np.array([[1,2,3],[4,5,6]])\n",
    "\n",
    "a"
   ]
  },
  {
   "cell_type": "code",
   "execution_count": 9,
   "id": "57ac512b-73de-40c8-a900-a2376762c853",
   "metadata": {
    "jupyter": {
     "source_hidden": true
    },
    "scrolled": true,
    "tags": []
   },
   "outputs": [
    {
     "data": {
      "text/plain": [
       "array([[1, 2, 3],\n",
       "       [4, 5, 6],\n",
       "       [1, 2, 3],\n",
       "       [4, 5, 6]])"
      ]
     },
     "execution_count": 9,
     "metadata": {},
     "output_type": "execute_result"
    }
   ],
   "source": [
    "np.concatenate([a,a])"
   ]
  },
  {
   "cell_type": "code",
   "execution_count": 26,
   "id": "d83a987e-93f3-499c-8a51-2a796e188125",
   "metadata": {
    "scrolled": true,
    "tags": []
   },
   "outputs": [
    {
     "data": {
      "text/plain": [
       "array([[1, 2, 3, 1, 2, 3],\n",
       "       [4, 5, 6, 4, 5, 6]])"
      ]
     },
     "execution_count": 26,
     "metadata": {},
     "output_type": "execute_result"
    }
   ],
   "source": [
    "np.concatenate([a,a],axis=1) #axis 1 olunca sutunlar boyu birlestir"
   ]
  },
  {
   "cell_type": "code",
   "execution_count": null,
   "id": "d00d7f13-29ff-42ac-9f56-8b884736cd07",
   "metadata": {},
   "outputs": [],
   "source": []
  },
  {
   "cell_type": "code",
   "execution_count": 24,
   "id": "49e5c105-b8d7-4362-b73d-57958f23d9af",
   "metadata": {},
   "outputs": [
    {
     "data": {
      "text/plain": [
       "array([[1, 2, 3],\n",
       "       [4, 5, 6],\n",
       "       [1, 2, 3],\n",
       "       [4, 5, 6]])"
      ]
     },
     "execution_count": 24,
     "metadata": {},
     "output_type": "execute_result"
    }
   ],
   "source": [
    "np.concatenate([a,a],axis=0)"
   ]
  },
  {
   "cell_type": "code",
   "execution_count": null,
   "id": "afd74738-05f1-411d-b036-0a06efc605c0",
   "metadata": {},
   "outputs": [],
   "source": []
  },
  {
   "cell_type": "code",
   "execution_count": null,
   "id": "8df9c6cb-aff1-4839-90a5-069b5fd3576d",
   "metadata": {},
   "outputs": [],
   "source": []
  },
  {
   "cell_type": "code",
   "execution_count": 13,
   "id": "ec2fb9b3-d270-468c-9971-86bd2092eddb",
   "metadata": {
    "tags": []
   },
   "outputs": [],
   "source": [
    "x=np.array([1,2,3,99,99,3,2,1])"
   ]
  },
  {
   "cell_type": "code",
   "execution_count": 15,
   "id": "1db889fc-6a1f-4af0-8da6-7a1eb81aa543",
   "metadata": {
    "tags": []
   },
   "outputs": [
    {
     "data": {
      "text/plain": [
       "[array([1, 2, 3]), array([99, 99]), array([3, 2, 1])]"
      ]
     },
     "execution_count": 15,
     "metadata": {},
     "output_type": "execute_result"
    }
   ],
   "source": [
    "np.split(x,[3,5]) #diziyi 3 ve 5 indesklerinden ayirir"
   ]
  },
  {
   "cell_type": "code",
   "execution_count": 17,
   "id": "e21a7dd0-55ac-405e-a7be-02876c889617",
   "metadata": {
    "tags": []
   },
   "outputs": [],
   "source": [
    "#soyle de yazabilir\n",
    "a,b,c=np.split(x,[3,5])"
   ]
  },
  {
   "cell_type": "code",
   "execution_count": 19,
   "id": "ba607c00-189a-4f97-a044-4e18bc4d4449",
   "metadata": {
    "tags": []
   },
   "outputs": [
    {
     "data": {
      "text/plain": [
       "array([1, 2, 3])"
      ]
     },
     "execution_count": 19,
     "metadata": {},
     "output_type": "execute_result"
    }
   ],
   "source": [
    "a"
   ]
  },
  {
   "cell_type": "code",
   "execution_count": 21,
   "id": "2d1cb5f9-3723-46cb-b9e4-acd2553a1017",
   "metadata": {
    "tags": []
   },
   "outputs": [
    {
     "data": {
      "text/plain": [
       "array([99, 99])"
      ]
     },
     "execution_count": 21,
     "metadata": {},
     "output_type": "execute_result"
    }
   ],
   "source": [
    "b"
   ]
  },
  {
   "cell_type": "code",
   "execution_count": 23,
   "id": "d8b7fd0f-445a-4e32-b7c1-a6a3058bddb0",
   "metadata": {
    "tags": []
   },
   "outputs": [
    {
     "data": {
      "text/plain": [
       "array([3, 2, 1])"
      ]
     },
     "execution_count": 23,
     "metadata": {},
     "output_type": "execute_result"
    }
   ],
   "source": [
    "c"
   ]
  },
  {
   "cell_type": "code",
   "execution_count": 25,
   "id": "6103fa6b-93bd-4454-8345-24c9fa0d6998",
   "metadata": {
    "tags": []
   },
   "outputs": [
    {
     "data": {
      "text/plain": [
       "array([[ 0,  1,  2,  3],\n",
       "       [ 4,  5,  6,  7],\n",
       "       [ 8,  9, 10, 11],\n",
       "       [12, 13, 14, 15]])"
      ]
     },
     "execution_count": 25,
     "metadata": {},
     "output_type": "execute_result"
    }
   ],
   "source": [
    "m = np.arange(16).reshape(4,4)\n",
    "m"
   ]
  },
  {
   "cell_type": "code",
   "execution_count": 27,
   "id": "62901225-5257-4495-9420-cac3b872dd0f",
   "metadata": {
    "tags": []
   },
   "outputs": [
    {
     "data": {
      "text/plain": [
       "[array([[0, 1, 2, 3],\n",
       "        [4, 5, 6, 7]]),\n",
       " array([[ 8,  9, 10, 11],\n",
       "        [12, 13, 14, 15]])]"
      ]
     },
     "execution_count": 27,
     "metadata": {},
     "output_type": "execute_result"
    }
   ],
   "source": [
    "np.vsplit(m,[2]) #ikiye boldu"
   ]
  },
  {
   "cell_type": "code",
   "execution_count": 29,
   "id": "561eb401-27e9-47af-9de3-a8ff5ee1f555",
   "metadata": {
    "tags": []
   },
   "outputs": [
    {
     "data": {
      "text/plain": [
       "[array([[ 0,  1],\n",
       "        [ 4,  5],\n",
       "        [ 8,  9],\n",
       "        [12, 13]]),\n",
       " array([[ 2,  3],\n",
       "        [ 6,  7],\n",
       "        [10, 11],\n",
       "        [14, 15]])]"
      ]
     },
     "execution_count": 29,
     "metadata": {},
     "output_type": "execute_result"
    }
   ],
   "source": [
    "np.hsplit(m,[2])"
   ]
  },
  {
   "cell_type": "code",
   "execution_count": 31,
   "id": "f9c940d2-a899-42fd-97b0-36744abcc259",
   "metadata": {
    "tags": []
   },
   "outputs": [
    {
     "data": {
      "text/plain": [
       "array([1, 2, 3, 4, 5])"
      ]
     },
     "execution_count": 31,
     "metadata": {},
     "output_type": "execute_result"
    }
   ],
   "source": [
    "#sorting\n",
    "v = np.array([2,1,4,3,5])\n",
    "np.sort(v)"
   ]
  },
  {
   "cell_type": "code",
   "execution_count": 33,
   "id": "b814ca96-aa34-44cf-8cfb-a75d98f37fb6",
   "metadata": {
    "tags": []
   },
   "outputs": [],
   "source": [
    "m=np.random.normal(20,5,(3,3)) #20 sayilarin ortalamasi\n",
    "#4 standart deviation"
   ]
  },
  {
   "cell_type": "code",
   "execution_count": 35,
   "id": "1246b0d1-1b66-4d9a-b3ec-a5845ee79b9b",
   "metadata": {
    "tags": []
   },
   "outputs": [
    {
     "data": {
      "text/plain": [
       "array([[25.61294733, 14.72550456, 20.13315726],\n",
       "       [23.43912125, 23.49563033, 21.10357565],\n",
       "       [19.21739148, 19.03663362, 20.49470274]])"
      ]
     },
     "execution_count": 35,
     "metadata": {},
     "output_type": "execute_result"
    }
   ],
   "source": [
    "m"
   ]
  },
  {
   "cell_type": "code",
   "execution_count": 41,
   "id": "8d65a52f-13c0-4a77-a64f-deb34ce882ef",
   "metadata": {
    "tags": []
   },
   "outputs": [
    {
     "data": {
      "text/plain": [
       "array([[3, 2, 1, 1, 5],\n",
       "       [3, 9, 2, 4, 8],\n",
       "       [5, 4, 8, 0, 1]])"
      ]
     },
     "execution_count": 41,
     "metadata": {},
     "output_type": "execute_result"
    }
   ],
   "source": [
    "a=np.random.randint(10,size=(3,5))\n",
    "a"
   ]
  },
  {
   "cell_type": "code",
   "execution_count": 43,
   "id": "7ca348e6-4a8d-4ed9-9e90-4314c4814d18",
   "metadata": {
    "tags": []
   },
   "outputs": [
    {
     "data": {
      "text/plain": [
       "9"
      ]
     },
     "execution_count": 43,
     "metadata": {},
     "output_type": "execute_result"
    }
   ],
   "source": [
    "a[1,1]"
   ]
  },
  {
   "cell_type": "code",
   "execution_count": 45,
   "id": "e581ef64-dc36-4ad3-81e8-798a2d4deba0",
   "metadata": {
    "tags": []
   },
   "outputs": [],
   "source": [
    "a[1,1]=2.2 #ondalikli yazsak bile int donusturcek 9 u 2 yapicak"
   ]
  },
  {
   "cell_type": "code",
   "execution_count": 47,
   "id": "01fc223e-12c5-42dd-862c-75c6f315688d",
   "metadata": {
    "tags": []
   },
   "outputs": [
    {
     "data": {
      "text/plain": [
       "array([[3, 2, 1, 1, 5],\n",
       "       [3, 2, 2, 4, 8],\n",
       "       [5, 4, 8, 0, 1]])"
      ]
     },
     "execution_count": 47,
     "metadata": {},
     "output_type": "execute_result"
    }
   ],
   "source": [
    "a"
   ]
  },
  {
   "cell_type": "code",
   "execution_count": 51,
   "id": "9d8b8330-bbb3-408f-a8da-d69ffcfb5886",
   "metadata": {
    "tags": []
   },
   "outputs": [
    {
     "data": {
      "text/plain": [
       "array([20, 21, 22, 23, 24, 25, 26, 27, 28, 29])"
      ]
     },
     "execution_count": 51,
     "metadata": {},
     "output_type": "execute_result"
    }
   ],
   "source": [
    "e=np.arange(20,30)\n",
    "e"
   ]
  },
  {
   "cell_type": "code",
   "execution_count": 53,
   "id": "442d4f44-195e-4375-a7fe-5a325f2d47e5",
   "metadata": {
    "tags": []
   },
   "outputs": [
    {
     "data": {
      "text/plain": [
       "array([23, 24, 25, 26, 27, 28, 29])"
      ]
     },
     "execution_count": 53,
     "metadata": {},
     "output_type": "execute_result"
    }
   ],
   "source": [
    "e[3:]"
   ]
  },
  {
   "cell_type": "code",
   "execution_count": 55,
   "id": "285317ec-e2fc-4c4b-a047-0f4a1972d5fd",
   "metadata": {
    "tags": []
   },
   "outputs": [
    {
     "data": {
      "text/plain": [
       "array([21, 23, 25, 27, 29])"
      ]
     },
     "execution_count": 55,
     "metadata": {},
     "output_type": "execute_result"
    }
   ],
   "source": [
    "e[1::2]"
   ]
  },
  {
   "cell_type": "code",
   "execution_count": 59,
   "id": "bbb90c74-2354-4f0f-b6d0-489a7a385b77",
   "metadata": {
    "tags": []
   },
   "outputs": [],
   "source": [
    "#iki boyutlular\n",
    "m=np.random.randint(10,size=(5,5))"
   ]
  },
  {
   "cell_type": "code",
   "execution_count": 61,
   "id": "1816afec-9543-49b1-ba6d-d6e4528ab29f",
   "metadata": {
    "tags": []
   },
   "outputs": [
    {
     "data": {
      "text/plain": [
       "array([[8, 5, 7, 0, 8],\n",
       "       [3, 9, 6, 9, 5],\n",
       "       [2, 5, 1, 3, 7],\n",
       "       [7, 9, 3, 9, 7],\n",
       "       [7, 9, 9, 9, 6]])"
      ]
     },
     "execution_count": 61,
     "metadata": {},
     "output_type": "execute_result"
    }
   ],
   "source": [
    "m"
   ]
  },
  {
   "cell_type": "code",
   "execution_count": 63,
   "id": "bdd4e54e-db28-4b03-808c-8669619d3a1b",
   "metadata": {
    "tags": []
   },
   "outputs": [
    {
     "data": {
      "text/plain": [
       "array([5, 9, 5, 9, 9])"
      ]
     },
     "execution_count": 63,
     "metadata": {},
     "output_type": "execute_result"
    }
   ],
   "source": [
    "m[:,1]"
   ]
  },
  {
   "cell_type": "code",
   "execution_count": 65,
   "id": "722dda30-44ca-432a-9d51-92a4dcad3308",
   "metadata": {
    "tags": []
   },
   "outputs": [
    {
     "data": {
      "text/plain": [
       "array([8, 5, 7, 0, 8])"
      ]
     },
     "execution_count": 65,
     "metadata": {},
     "output_type": "execute_result"
    }
   ],
   "source": [
    "m[0,:]"
   ]
  },
  {
   "cell_type": "code",
   "execution_count": 67,
   "id": "d279f81b-6de2-4332-8338-48b4d827acd8",
   "metadata": {
    "tags": []
   },
   "outputs": [
    {
     "data": {
      "text/plain": [
       "array([[8, 5, 7],\n",
       "       [3, 9, 6]])"
      ]
     },
     "execution_count": 67,
     "metadata": {},
     "output_type": "execute_result"
    }
   ],
   "source": [
    "m[0:2,0:3]"
   ]
  },
  {
   "cell_type": "code",
   "execution_count": 71,
   "id": "8783f2d2-fa38-4704-9016-50ccf4150e52",
   "metadata": {
    "tags": []
   },
   "outputs": [
    {
     "data": {
      "text/plain": [
       "array([[8, 5],\n",
       "       [3, 9],\n",
       "       [2, 5],\n",
       "       [7, 9],\n",
       "       [7, 9]])"
      ]
     },
     "execution_count": 71,
     "metadata": {},
     "output_type": "execute_result"
    }
   ],
   "source": [
    "m[::,:2]"
   ]
  },
  {
   "cell_type": "code",
   "execution_count": 73,
   "id": "eef71f5d-5b7c-4ed6-857d-f6b769ef8625",
   "metadata": {
    "tags": []
   },
   "outputs": [
    {
     "data": {
      "text/plain": [
       "array([[3, 9],\n",
       "       [2, 5]])"
      ]
     },
     "execution_count": 73,
     "metadata": {},
     "output_type": "execute_result"
    }
   ],
   "source": [
    "m[1:3,0:2]"
   ]
  },
  {
   "cell_type": "code",
   "execution_count": 77,
   "id": "57eed69d-f364-4ddc-8771-033aaafca332",
   "metadata": {
    "tags": []
   },
   "outputs": [
    {
     "data": {
      "text/plain": [
       "array([[7, 7, 5, 6, 4],\n",
       "       [5, 9, 8, 7, 4],\n",
       "       [2, 3, 5, 9, 7],\n",
       "       [8, 1, 9, 9, 4],\n",
       "       [8, 5, 2, 1, 4]])"
      ]
     },
     "execution_count": 77,
     "metadata": {},
     "output_type": "execute_result"
    }
   ],
   "source": [
    "#alt kume ile calismak\n",
    "a=np.random.randint(10,size=(5,5))\n",
    "a"
   ]
  },
  {
   "cell_type": "code",
   "execution_count": 79,
   "id": "89d109ad-2d78-495b-808a-7078170dd63e",
   "metadata": {
    "tags": []
   },
   "outputs": [
    {
     "data": {
      "text/plain": [
       "array([[7, 7],\n",
       "       [5, 9],\n",
       "       [2, 3]])"
      ]
     },
     "execution_count": 79,
     "metadata": {},
     "output_type": "execute_result"
    }
   ],
   "source": [
    "alt_a = a[0:3,0:2]\n",
    "alt_a"
   ]
  },
  {
   "cell_type": "code",
   "execution_count": 81,
   "id": "d911ec83-0e7c-4cdb-a9bc-3b013621d5f4",
   "metadata": {
    "tags": []
   },
   "outputs": [],
   "source": [
    "alt_a[0,0]=99999\n",
    "alt_a[1,1] = 888"
   ]
  },
  {
   "cell_type": "code",
   "execution_count": 83,
   "id": "713ef738-31ee-4a7f-806f-34857b90ec4a",
   "metadata": {
    "tags": []
   },
   "outputs": [
    {
     "data": {
      "text/plain": [
       "array([[99999,     7],\n",
       "       [    5,   888],\n",
       "       [    2,     3]])"
      ]
     },
     "execution_count": 83,
     "metadata": {},
     "output_type": "execute_result"
    }
   ],
   "source": [
    "alt_a"
   ]
  },
  {
   "cell_type": "code",
   "execution_count": 85,
   "id": "fa053187-0d16-4676-a5ad-fe73def95779",
   "metadata": {
    "tags": []
   },
   "outputs": [
    {
     "data": {
      "text/plain": [
       "array([[9, 2, 4, 4, 5],\n",
       "       [5, 1, 3, 3, 7],\n",
       "       [9, 2, 1, 5, 3],\n",
       "       [5, 1, 8, 8, 2],\n",
       "       [7, 1, 9, 5, 3]])"
      ]
     },
     "execution_count": 85,
     "metadata": {},
     "output_type": "execute_result"
    }
   ],
   "source": [
    "m=np.random.randint(10,size=(5,5))\n",
    "m"
   ]
  },
  {
   "cell_type": "code",
   "execution_count": 89,
   "id": "c6ba024d-e494-4b9d-984d-9dcfe53835d1",
   "metadata": {
    "tags": []
   },
   "outputs": [
    {
     "data": {
      "text/plain": [
       "array([[9, 2],\n",
       "       [5, 1],\n",
       "       [9, 2]])"
      ]
     },
     "execution_count": 89,
     "metadata": {},
     "output_type": "execute_result"
    }
   ],
   "source": [
    "alt_b=m[0:3,0:2].copy()\n",
    "alt_b"
   ]
  },
  {
   "cell_type": "code",
   "execution_count": 91,
   "id": "f57c4b1d-07b2-4b6e-be71-5ecbe40e91c3",
   "metadata": {
    "tags": []
   },
   "outputs": [],
   "source": [
    "alt_b[0,0] = 9999"
   ]
  },
  {
   "cell_type": "code",
   "execution_count": 93,
   "id": "9efedbe9-41f4-4e17-b6bb-ff6053b6bf2d",
   "metadata": {
    "tags": []
   },
   "outputs": [
    {
     "data": {
      "text/plain": [
       "array([[9999,    2],\n",
       "       [   5,    1],\n",
       "       [   9,    2]])"
      ]
     },
     "execution_count": 93,
     "metadata": {},
     "output_type": "execute_result"
    }
   ],
   "source": [
    "alt_b"
   ]
  },
  {
   "cell_type": "code",
   "execution_count": 11,
   "id": "e3dd3d93-cd94-4c43-9fbf-c02617d6bd7e",
   "metadata": {
    "tags": []
   },
   "outputs": [
    {
     "data": {
      "text/plain": [
       "array([ 0,  3,  6,  9, 12, 15, 18, 21, 24, 27])"
      ]
     },
     "execution_count": 11,
     "metadata": {},
     "output_type": "execute_result"
    }
   ],
   "source": [
    "v=np.arange(0,30,3)\n",
    "v"
   ]
  },
  {
   "cell_type": "code",
   "execution_count": 13,
   "id": "686d8241-ffdd-420a-8002-1d01aba6440e",
   "metadata": {
    "tags": []
   },
   "outputs": [],
   "source": [
    "al_getir=[1,3,5]"
   ]
  },
  {
   "cell_type": "code",
   "execution_count": 15,
   "id": "f34e2a7a-a25a-4039-8138-14ddd26705f1",
   "metadata": {
    "tags": []
   },
   "outputs": [
    {
     "data": {
      "text/plain": [
       "array([ 3,  9, 15])"
      ]
     },
     "execution_count": 15,
     "metadata": {},
     "output_type": "execute_result"
    }
   ],
   "source": [
    "v[al_getir] #tek tek yazdirmaktansa boyle yapialbilir"
   ]
  },
  {
   "cell_type": "code",
   "execution_count": 101,
   "id": "6d4f51d0-2188-4805-bb82-12e53099d7fc",
   "metadata": {
    "tags": []
   },
   "outputs": [],
   "source": [
    "v=np.array([1,2,3,4,5])"
   ]
  },
  {
   "cell_type": "code",
   "execution_count": 103,
   "id": "d02c7682-7c9d-4ee8-b0a7-badb0a8f91fb",
   "metadata": {
    "tags": []
   },
   "outputs": [
    {
     "data": {
      "text/plain": [
       "array([ True,  True, False, False, False])"
      ]
     },
     "execution_count": 103,
     "metadata": {},
     "output_type": "execute_result"
    }
   ],
   "source": [
    "v < 3"
   ]
  },
  {
   "cell_type": "code",
   "execution_count": 105,
   "id": "3b806878-4ffa-4b31-a8ad-db1af1b51aa2",
   "metadata": {
    "tags": []
   },
   "outputs": [
    {
     "data": {
      "text/plain": [
       "array([1, 2])"
      ]
     },
     "execution_count": 105,
     "metadata": {},
     "output_type": "execute_result"
    }
   ],
   "source": [
    "v[v<3]"
   ]
  },
  {
   "cell_type": "code",
   "execution_count": 107,
   "id": "d396fc58-76d6-4478-ad48-897496ca6c38",
   "metadata": {
    "tags": []
   },
   "outputs": [
    {
     "data": {
      "text/plain": [
       "array([1, 2, 4, 5])"
      ]
     },
     "execution_count": 107,
     "metadata": {},
     "output_type": "execute_result"
    }
   ],
   "source": [
    "v[ v!=3]"
   ]
  },
  {
   "cell_type": "code",
   "execution_count": 109,
   "id": "e64d844b-213c-40de-95ad-5ad0e61d88e6",
   "metadata": {
    "tags": []
   },
   "outputs": [],
   "source": [
    "v=np.array([1,2,3,4,5])"
   ]
  },
  {
   "cell_type": "code",
   "execution_count": 113,
   "id": "c4c49366-95af-4433-9124-fc697de37127",
   "metadata": {
    "tags": []
   },
   "outputs": [
    {
     "data": {
      "text/plain": [
       "array([0, 1, 2, 3, 4])"
      ]
     },
     "execution_count": 113,
     "metadata": {},
     "output_type": "execute_result"
    }
   ],
   "source": [
    "v-1 # aynisini np.subtract(v,1) yazarak elde edebiliriz\n",
    "#np.sum toplama np.multiply carpma np.divide bolme vs"
   ]
  },
  {
   "cell_type": "code",
   "execution_count": 115,
   "id": "21f0b42b-a135-4f5c-bbc6-7bf1ce74fb5d",
   "metadata": {
    "tags": []
   },
   "outputs": [],
   "source": [
    "# v**3 ile np.power(v,3) ayni sey"
   ]
  },
  {
   "cell_type": "code",
   "execution_count": 117,
   "id": "f38103e6-8175-4097-847e-9a69b6ee6e18",
   "metadata": {
    "tags": []
   },
   "outputs": [
    {
     "data": {
      "text/plain": [
       "array([1, 0, 1, 0, 1])"
      ]
     },
     "execution_count": 117,
     "metadata": {},
     "output_type": "execute_result"
    }
   ],
   "source": [
    "# kalan bulma olay\n",
    "v%2"
   ]
  },
  {
   "cell_type": "code",
   "execution_count": 119,
   "id": "4995b8c0-80d7-4b6b-896d-a66183d8b794",
   "metadata": {
    "tags": []
   },
   "outputs": [
    {
     "data": {
      "text/plain": [
       "array([1, 0, 1, 0, 1])"
      ]
     },
     "execution_count": 119,
     "metadata": {},
     "output_type": "execute_result"
    }
   ],
   "source": [
    "np.mod(v,2)"
   ]
  },
  {
   "cell_type": "code",
   "execution_count": 121,
   "id": "ae499697-7f74-4794-a348-b9bccb525ac7",
   "metadata": {
    "tags": []
   },
   "outputs": [
    {
     "data": {
      "text/plain": [
       "array([3])"
      ]
     },
     "execution_count": 121,
     "metadata": {},
     "output_type": "execute_result"
    }
   ],
   "source": [
    "np.absolute(np.array([-3])) #mutlak deger"
   ]
  },
  {
   "cell_type": "code",
   "execution_count": 128,
   "id": "785696d5-8c44-4104-b3b9-cddbeb81fd9e",
   "metadata": {
    "tags": []
   },
   "outputs": [
    {
     "data": {
      "text/plain": [
       "0.9589157234143065"
      ]
     },
     "execution_count": 128,
     "metadata": {},
     "output_type": "execute_result"
    }
   ],
   "source": [
    "np.sin(360)"
   ]
  },
  {
   "cell_type": "code",
   "execution_count": 130,
   "id": "1349e611-6292-4a93-a523-2ad0d860cad7",
   "metadata": {
    "tags": []
   },
   "outputs": [],
   "source": [
    "a=np.array([[5,1],[1,3]])"
   ]
  },
  {
   "cell_type": "markdown",
   "id": "e033d957-ebf0-4eb1-ba20-a4bf04c9c5cb",
   "metadata": {},
   "source": [
    "5x0 + x1 =12\n",
    "x0+3x1 =10"
   ]
  },
  {
   "cell_type": "code",
   "execution_count": 133,
   "id": "310bcbe5-ac41-40be-bde0-17694404e92e",
   "metadata": {
    "tags": []
   },
   "outputs": [],
   "source": [
    "b=np.array([12,10])"
   ]
  },
  {
   "cell_type": "code",
   "execution_count": 135,
   "id": "82d77961-2284-4732-a44b-1fc8b0f7a857",
   "metadata": {
    "tags": []
   },
   "outputs": [
    {
     "data": {
      "text/plain": [
       "array([1.85714286, 2.71428571])"
      ]
     },
     "execution_count": 135,
     "metadata": {},
     "output_type": "execute_result"
    }
   ],
   "source": [
    "x=np.linalg.solve(a,b)\n",
    "x #x0 ve x1 degerlerini boyle bu komutla buluyoruz"
   ]
  }
 ],
 "metadata": {
  "kernelspec": {
   "display_name": "Python [conda env:base] *",
   "language": "python",
   "name": "conda-base-py"
  },
  "language_info": {
   "codemirror_mode": {
    "name": "ipython",
    "version": 3
   },
   "file_extension": ".py",
   "mimetype": "text/x-python",
   "name": "python",
   "nbconvert_exporter": "python",
   "pygments_lexer": "ipython3",
   "version": "3.11.5"
  }
 },
 "nbformat": 4,
 "nbformat_minor": 5
}
